{
 "cells": [
  {
   "cell_type": "code",
   "execution_count": 14,
   "metadata": {
    "colab": {
     "base_uri": "https://localhost:8080/"
    },
    "executionInfo": {
     "elapsed": 634,
     "status": "ok",
     "timestamp": 1705078016941,
     "user": {
      "displayName": "Grégory Deschamps",
      "userId": "00349060252068867806"
     },
     "user_tz": -60
    },
    "id": "T154f6qLU-FC",
    "outputId": "a8b11432-9dfb-4189-a569-ee3d54e1a6f6"
   },
   "outputs": [
    {
     "name": "stdout",
     "output_type": "stream",
     "text": [
      "Python 3.11.3\n"
     ]
    }
   ],
   "source": [
    "!python --version"
   ]
  },
  {
   "cell_type": "code",
   "execution_count": 15,
   "metadata": {
    "executionInfo": {
     "elapsed": 696,
     "status": "ok",
     "timestamp": 1705078144964,
     "user": {
      "displayName": "Grégory Deschamps",
      "userId": "00349060252068867806"
     },
     "user_tz": -60
    },
    "id": "r3ea-cLgWL4e"
   },
   "outputs": [],
   "source": [
    "from openai import OpenAI"
   ]
  },
  {
   "cell_type": "code",
   "execution_count": 16,
   "metadata": {
    "colab": {
     "base_uri": "https://localhost:8080/",
     "height": 327
    },
    "executionInfo": {
     "elapsed": 953,
     "status": "error",
     "timestamp": 1705078152643,
     "user": {
      "displayName": "Grégory Deschamps",
      "userId": "00349060252068867806"
     },
     "user_tz": -60
    },
    "id": "fJw7X2xIWaqc",
    "outputId": "cdde0476-bfa5-47da-b164-ced77fafb3eb"
   },
   "outputs": [],
   "source": [
    "with open(\"data/openai/openai.env\") as f:\n",
    "    key = f.read()"
   ]
  },
  {
   "cell_type": "code",
   "execution_count": 17,
   "metadata": {
    "colab": {
     "base_uri": "https://localhost:8080/",
     "height": 254
    },
    "executionInfo": {
     "elapsed": 231,
     "status": "error",
     "timestamp": 1705078175775,
     "user": {
      "displayName": "Grégory Deschamps",
      "userId": "00349060252068867806"
     },
     "user_tz": -60
    },
    "id": "wsD4yQ1vWeI1",
    "outputId": "d8271605-ef9c-4c2a-be64-5e478550009b"
   },
   "outputs": [
    {
     "name": "stdout",
     "output_type": "stream",
     "text": [
      "Ce texte parle de la mer Méditerranée, de ses eaux bleues et de la vie marine qu'elle abrite. Il évoque la diversité des poissons, des marins et des jolies filles qui fréquentent ses rivages, notamment à Marseille. On y parle également de la pêche, tant professionnelle qu'amateur, et des plaisirs de la chasse sous-marine. Le texte décrit aussi les lieux emblématiques où les gens se retrouvent pour profiter du soleil et de la mer, tels que les plages du Frioul, Catalans et l'Abri-Côtier, ainsi que Callelongue. Enfin, il met en avant le désir de préserver la beauté naturelle de la côte et de lutter contre le bétonnage.\n"
     ]
    }
   ],
   "source": [
    "with open(\"data/openai/quelle_est_bleue.txt\") as f:\n",
    "    text = f.read()\n",
    "\n",
    "# print(text)\n",
    "\n",
    "client = OpenAI(api_key=key)\n",
    "\n",
    "completion = client.chat.completions.create(model=\"gpt-3.5-turbo\",\n",
    "    messages=[\n",
    "        {\"role\": \"system\", \"content\": \"De quoi parle ce texte? dans un contexte de plongeur pro\"},\n",
    "        {\"role\": \"user\", \"content\": text}\n",
    "    ]\n",
    ")\n",
    "\n",
    "res = completion.choices[0].message\n",
    "print(res.content)"
   ]
  },
  {
   "cell_type": "code",
   "execution_count": 18,
   "metadata": {
    "colab": {
     "base_uri": "https://localhost:8080/"
    },
    "executionInfo": {
     "elapsed": 19042,
     "status": "ok",
     "timestamp": 1704739227508,
     "user": {
      "displayName": "Cyril Vincent",
      "userId": "11684947983570556386"
     },
     "user_tz": -60
    },
    "id": "83aVzyVEXQOM",
    "outputId": "13747086-6322-46a1-9193-b693ff2505ac"
   },
   "outputs": [
    {
     "name": "stdout",
     "output_type": "stream",
     "text": [
      "import pandas as pd\n",
      "import sweetviz\n",
      "import matplotlib.pyplot as plt\n",
      "import seaborn as sns\n",
      "\n",
      "pd.options.display.max_columns = None\n",
      "\n",
      "df = pd.read_csv('data/churn/churn.csv', delimiter=',')\n",
      "print(df.shape)\n",
      "\n",
      "# Anonymisation\n",
      "df = df.drop([\"RowNumber\", \"CustomerId\", \"Surname\"], axis = 1)\n",
      "\n",
      "# France only\n",
      "df = df[df.Geography == \"France\"]\n",
      "df = df.drop([\"Geography\"], axis = 1)\n",
      "print(df.describe().T)\n",
      "\n",
      "# my_report = sweetviz.analyze(df)\n",
      "# my_report.show_html()\n",
      "\n",
      "# Discretisation?\n",
      "print(df.nunique())\n",
      "\n",
      "# Etude pragmatique sur valeurs discretes (categorielles)\n",
      "fig, axarr = plt.subplots(2, 2)\n",
      "sns.countplot(x='Gender', hue = 'Exited',data = df, ax=axarr[0][0])\n",
      "sns.countplot(x='HasCrCard', hue = 'Exited',data = df, ax=axarr[0][1])\n",
      "sns.countplot(x='IsActiveMember', hue = 'Exited',data = df, ax=axarr[1][0])\n",
      "plt.show()\n",
      "\n",
      "# Etude pragmatique sur valeurs continues\n",
      "fig, axarr = plt.subplots(3, 2)\n",
      "sns.boxplot(y='CreditScore',x = 'Exited', hue = 'Exited',data = df, ax=axarr[0][0])\n",
      "sns.boxplot(y='Age',x = 'Exited', hue = 'Exited',data = df , ax=axarr[0][1])\n",
      "sns.boxplot(y='Tenure',x = 'Exited', hue = 'Exited',data = df, ax=axarr[1][0])\n",
      "sns.boxplot(y='Balance',x = 'Exited', hue = 'Exited',data = df, ax=axarr[1][1])\n",
      "sns.boxplot(y='NumOfProducts',x = 'Exited', hue = 'Exited',data = df, ax=axarr[2][0])\n",
      "sns.boxplot(y='EstimatedSalary',x = 'Exited', hue = 'Exited',data = df, ax=axarr[2][1])\n",
      "plt.show()\n",
      "\n",
      "# Ingenieurie de la data\n",
      "df['BalanceSalaryRatio'] = df.Balance/df.EstimatedSalary\n",
      "df['TenureByAge'] = df.Tenure/(df.Age) # Tenure = mandat\n",
      "df['CreditScoreGivenAge'] = df.CreditScore/(df.Age)\n",
      "\n",
      "# Reordonne pour avoir les valeurs discretes Ã  droite\n",
      "continuous_vars = ['CreditScore',  'Age', 'Tenure', 'Balance','NumOfProducts', 'EstimatedSalary', 'BalanceSalaryRatio',\n",
      "                   'TenureByAge','CreditScoreGivenAge']\n",
      "cat_vars = ['HasCrCard', 'IsActiveMember','Gender']\n",
      "df = df[['Exited'] + continuous_vars + cat_vars]\n",
      "print(df.head())\n",
      "\n",
      "df.loc[df.Gender == \"Male\", 'Gender'] = 1\n",
      "df.loc[df.Gender == \"Female\", 'Gender'] = 0\n",
      "print(df.head())\n",
      "\n",
      "# Equilibrage\n",
      "# Proportion de churn\n",
      "labels = 'Exited', 'Retained'\n",
      "sizes = [df.Exited[df.Exited==1].count(), df.Exited[df.Exited==0].count()]\n",
      "explode = (0, 0.1)\n",
      "fig1, ax1 = plt.subplots()\n",
      "ax1.pie(sizes, explode=explode, labels=labels, autopct='%1.1f%%',\n",
      "        shadow=True, startangle=90)\n",
      "ax1.axis('equal')\n",
      "plt.title(\"Proportion of customer churned and retained\", size = 20)\n",
      "plt.show()\n",
      "\n",
      "# Equilibrage\n",
      "nb = len(df[df.Exited==1])\n",
      "df = pd.concat([df[df.Exited==1], df[df.Exited==0][:nb]])\n",
      "\n",
      "df.to_csv(\"data/churn/churn_clean.csv\", index=False)\n",
      "\n",
      "Ce code Python effectue les actions suivantes :\n",
      "\n",
      "1. Importe les librairies nécessaires : pandas, sweetviz, matplotlib.pyplot, seaborn.\n",
      "\n",
      "2. Charge un jeu de données à partir d'un fichier CSV ('data/churn/churn.csv') dans un DataFrame pandas, puis affiche sa forme (nombre de lignes et de colonnes).\n",
      "\n",
      "3. Effectue l'anonymisation des données en supprimant les colonnes \"RowNumber\", \"CustomerId\" et \"Surname\".\n",
      "\n",
      "4. Filtre les données pour ne conserver que les clients français.\n",
      "\n",
      "5. Affiche des statistiques descriptives sur les données.\n",
      "\n",
      "6. Réalise une analyse de la distribution des valeurs uniques dans le DataFrame.\n",
      "\n",
      "7. Effectue une étude pragmatique sur les variables catégorielles en affichant des graphiques de comptage pour les variables \"Gender\", \"HasCrCard\" et \"IsActiveMember\".\n",
      "\n",
      "8. Effectue une étude pragmatique sur les variables continues en affichant des boîtes à moustaches pour plusieurs variables telles que \"CreditScore\", \"Age\", \"Tenure\", etc.\n",
      "\n",
      "9. Effectue de l'ingénierie de données en créant de nouvelles variables dérivées à partir des variables existantes.\n",
      "\n",
      "10. Réorganise les colonnes du DataFrame pour avoir d'abord la colonne cible \"Exited\", suivie des variables continues et catégorielles.\n",
      "\n",
      "11. Encode les valeurs de la variable \"Gender\" en remplaçant \"Male\" par 1 et \"Female\" par 0.\n",
      "\n",
      "12. Réalise un pie-chart pour visualiser la proportion de clients ayant résilié leur contrat par rapport à ceux qui sont restés.\n",
      "\n",
      "13. Équilibre les classes en ne conservant qu'un nombre égal d'échantillons pour les clients ayant résilié et ceux qui sont restés.\n",
      "\n",
      "14. Sauvegarde le DataFrame nettoyé dans un nouveau fichier CSV.\n",
      "\n",
      "Il est à noter que certaines parties du code (comme la génération de rapports avec Sweetviz) sont actuellement commentées, c'est-à-dire qu'elles ne sont pas exécutées. En revanche, d'autres parties du code (notamment la visualisation des données avec des graphiques) sont actuellement exécutées et produiront des sorties visuelles.\n"
     ]
    }
   ],
   "source": [
    "with open(\"data/openai/churn_cleaning.py\") as f:\n",
    "    text = f.read()\n",
    "\n",
    "print(text)\n",
    "\n",
    "client = OpenAI(api_key=key)\n",
    "\n",
    "completion = client.chat.completions.create(model=\"gpt-3.5-turbo\",\n",
    "    messages=[\n",
    "        {\"role\": \"system\", \"content\": \"Expliques moi ce que fais ce code\"},\n",
    "        {\"role\": \"user\", \"content\": text}\n",
    "    ]\n",
    ")\n",
    "\n",
    "res = completion.choices[0].message\n",
    "print(res.content)"
   ]
  },
  {
   "cell_type": "code",
   "execution_count": 19,
   "metadata": {
    "id": "7PJ5OjKvYT4P"
   },
   "outputs": [],
   "source": [
    "import datetime\n",
    "# import whisper # pip install openai-whisper\n",
    "import os"
   ]
  },
  {
   "cell_type": "code",
   "execution_count": 20,
   "metadata": {
    "id": "u1yTR-cKYl8C"
   },
   "outputs": [],
   "source": [
    "class OpenAIService:\n",
    "\n",
    "    def __init__(self, whisper_model=\"base\", chat_model=\"gpt-3.5-turbo-1106\", chat_limit=16385):\n",
    "        # os.environ[\"path\"] += \";c:\\\\ffmpeg\\\\bin\"\n",
    "        # self.model = whisper.load_model(whisper_model)\n",
    "        with open(\"data/openai/openai.env\") as f:\n",
    "            key = f.read()\n",
    "        self.client = OpenAI(api_key=key)\n",
    "        self.chat_model = chat_model\n",
    "        self.chat_limit = chat_limit\n",
    "\n",
    "    def mp3_to_text(self, path):\n",
    "        result = self.model.transcribe(path)\n",
    "        return result[\"text\"].encode(\"utf-8\").decode()\n",
    "\n",
    "    def summary(self, text: str, nb: int=5) -> str:\n",
    "        completion = self.client.chat.completions.create(\n",
    "            model=self.chat_model,\n",
    "            messages=[{\"role\": \"system\", \"content\": f\"Fais moi un résumé en {nb} parties de ce texte\"},\n",
    "                {\"role\": \"user\", \"content\": text}])\n",
    "        return completion.choices[0].message.content\n",
    "\n",
    "    def correction(self, text: str, ponctuation=True, bank=True) -> str:\n",
    "        s = \"Corriges moi ce texte \"\n",
    "        if ponctuation:\n",
    "            s+=\"avec de la ponctuation \"\n",
    "        if bank:\n",
    "            s+=\"avec un vocabulaire bancaire\"\n",
    "        completion = self.client.chat.completions.create(\n",
    "            model=self.chat_model,\n",
    "            messages=[{\"role\": \"system\", \"content\": s},\n",
    "                      {\"role\": \"user\", \"content\": text}])\n",
    "        return completion.choices[0].message.content\n",
    "\n",
    "    def translate(self, text: str, langue=\"anglais\") -> str:\n",
    "        s = f\"Traduis moi ce texte en {langue}\"\n",
    "        completion = self.client.chat.completions.create(\n",
    "            model=self.chat_model,\n",
    "            messages=[{\"role\": \"system\", \"content\": s},\n",
    "                      {\"role\": \"user\", \"content\": text}])\n",
    "        return completion.choices[0].message.content"
   ]
  },
  {
   "cell_type": "code",
   "execution_count": 21,
   "metadata": {
    "colab": {
     "base_uri": "https://localhost:8080/",
     "height": 401
    },
    "executionInfo": {
     "elapsed": 240,
     "status": "error",
     "timestamp": 1704988088548,
     "user": {
      "displayName": "Ludovic Fendorf",
      "userId": "15275327317811782890"
     },
     "user_tz": -60
    },
    "id": "icY_5CghYsp5",
    "outputId": "38c86ccf-cecd-4a93-d991-eb8bbf9a22de"
   },
   "outputs": [
    {
     "name": "stdout",
     "output_type": "stream",
     "text": [
      "OpenAI test\n",
      "Je suis Salimage, j'ai 32 ans, et je suis actuellement conseiller clientèle au sein de la Banque Postale. Après un BTS commercial et une année de spécialisation en école de commerce, j’ai entamé un contrat de qualification d'une durée de 9 mois, dispensé par La Poste et un centre de formation. À l'issue de cette formation, j'ai obtenu un certificat de compétences professionnelles de conseiller financier, ce qui m'a permis aussitôt d'intégrer le poste de conseiller financier dans un bureau de poste pendant trois ans. J'ai ensuite évolué vers un poste de conseiller clientèle que j'occupe depuis 5 ans. Je travaille au nom et pour le compte de la Banque Postale, proposant ses produits et services financiers. J'ai à ma charge 1600 clients, dont les 500 premiers constituent l'essentiel de mon portefeuille. En qualité de conseiller bancaire, ma mission principale est d'apporter des conseils adaptés à mes clients pour optimiser leur épargne et constituer leur patrimoine. Il est impératif d'avoir une bonne connaissance des produits bancaires, de la fiscalité et de l'environnement économique et financier. Des outils et des formations en interne sont donc à notre disposition pour développer notre savoir. Chaque matin, je consacre environ 45 minutes à la préparation des entretiens, sachant que j'ai environ 6-7 rendez-vous par jour. Avec l'aide de mon chef d'établissement, nous étudions ensemble les potentiels de chaque dossier et définissons notre stratégie. Les journées sont rythmées par le déroulement des entretiens qui durent environ 45 minutes voire une heure. Il faut aussi répondre aux appels des clients, traiter le service après-vente et s'informer sur l'actualité économique et financière. À la fin de chaque journée, le chef d'établissement et moi-même faisons le bilan de chaque dossier. Ce qui me plaît dans mon métier, c'est avant tout le contact avec la clientèle. C'est également un métier très enrichissant, car on est amené à rencontrer toutes les catégories socioprofessionnelles et à faire face à des problématiques très différentes d'un dossier à un autre. Les conseils que je donnerais à un jeune diplômé pour exercer ce métier, c'est d'être pugnace, d'avoir le goût du challenge, mais surtout d'être à l'écoute et de comprendre l'autre. Je pense que, aujourd'hui, ce qui fait la différence, c'est la dimension conseil.\n"
     ]
    }
   ],
   "source": [
    "print(\"OpenAI test\")\n",
    "openai = OpenAIService(whisper_model=\"base\")\n",
    "time0 = datetime.datetime.now()\n",
    "\n",
    "# res = openai.mp3_to_text(\"data/openai/bank.mp3\")\n",
    "# print(res.strip())\n",
    "# with open(\"data/openai/bank.txt\", \"w\") as f:\n",
    "#     f.write(res)\n",
    "\n",
    "with open(\"data/openai/bank.txt\", \"r\", encoding=\"iso-8859-1\") as f:\n",
    "    res = f.read()\n",
    "correction = openai.correction(res, True, True)\n",
    "print(correction)\n",
    "with open(f\"data/openai/correction.txt\", \"w\") as f:\n",
    "    f.write(correction)"
   ]
  },
  {
   "cell_type": "code",
   "execution_count": 22,
   "metadata": {
    "colab": {
     "base_uri": "https://localhost:8080/"
    },
    "executionInfo": {
     "elapsed": 8887,
     "status": "ok",
     "timestamp": 1704739724494,
     "user": {
      "displayName": "Cyril Vincent",
      "userId": "11684947983570556386"
     },
     "user_tz": -60
    },
    "id": "tLPmxW8dZ5eE",
    "outputId": "c9eb0423-5c30-4dd1-9c32-28f048296b7b"
   },
   "outputs": [
    {
     "name": "stdout",
     "output_type": "stream",
     "text": [
      "1. Parcours professionnel : Salimage est actuellement conseiller clientèle à la Banque Postale, après un BTS commercial, une année de spécialisation en école de commerce et une formation dispensée par La Poste.\n",
      "2. Mission et activités : Son rôle est d'apporter des conseils financiers adaptés à ses clients, d'assurer une relation de qualité et de promouvoir les produits financiers de la Banque Postale.\n",
      "3. Gestion de portefeuille : Salimage gère 1600 clients, dont les 500 premiers sont au cœur de son portefeuille, et cherche à développer sa clientèle par des actions de fidélisation et d'approche familiale.\n",
      "4. Préparation et déroulement des journées : Il consacre du temps chaque matin à la préparation des entretiens pour ses 6-7 rendez-vous quotidiens, suivi de la gestion des appels clients et de l'actualité économique.\n",
      "5. Enrichissement professionnel : Salimage apprécie le contact avec la clientèle et la diversité des problématiques rencontrées, soulignant l'importance de la dimension conseil dans ce métier, conseillant aux jeunes diplômés d'être pugnaces et à l'écoute.\n"
     ]
    }
   ],
   "source": [
    "summary = openai.summary(res)\n",
    "print(summary)\n",
    "with open(f\"data/openai/summary5.txt\", \"w\") as f:\n",
    "    f.write(summary)"
   ]
  },
  {
   "cell_type": "code",
   "execution_count": 23,
   "metadata": {
    "colab": {
     "base_uri": "https://localhost:8080/"
    },
    "executionInfo": {
     "elapsed": 5669,
     "status": "ok",
     "timestamp": 1704739772612,
     "user": {
      "displayName": "Cyril Vincent",
      "userId": "11684947983570556386"
     },
     "user_tz": -60
    },
    "id": "hVQ99aQcaGfV",
    "outputId": "8511b09a-7ee0-4f7a-8032-5556f294ee4f"
   },
   "outputs": [
    {
     "name": "stdout",
     "output_type": "stream",
     "text": [
      "1. Professional Background: Salimage is currently a customer advisor at La Banque Postale, following a BTS in sales, a year of specialization in a business school, and training provided by La Poste.\n",
      "2. Mission and Activities: His role is to provide tailored financial advice to his clients, ensure a high-quality relationship, and promote La Banque Postale's financial products.\n",
      "3. Portfolio Management: Salimage manages 1600 clients, with the top 500 being at the core of his portfolio, and seeks to expand his client base through loyalty initiatives and a family-oriented approach.\n",
      "4. Daily Preparation and Activities: He dedicates time each morning to preparing for his 6-7 daily appointments, followed by managing client calls and staying updated on economic news.\n",
      "5. Professional Enrichment: Salimage enjoys interacting with clients and the diversity of issues encountered, emphasizing the importance of advisory expertise in this field, and advising young graduates to be assertive and attentive.\n"
     ]
    }
   ],
   "source": [
    "summary_english = openai.translate(summary)\n",
    "print(summary_english)\n",
    "with open(f\"data/openai/summary_english.txt\", \"w\") as f:\n",
    "    f.write(summary_english)"
   ]
  },
  {
   "cell_type": "code",
   "execution_count": 24,
   "metadata": {
    "colab": {
     "base_uri": "https://localhost:8080/"
    },
    "executionInfo": {
     "elapsed": 13337,
     "status": "ok",
     "timestamp": 1704739814530,
     "user": {
      "displayName": "Cyril Vincent",
      "userId": "11684947983570556386"
     },
     "user_tz": -60
    },
    "id": "Ua66kRSbaKeh",
    "outputId": "d222f11e-46c3-45c3-a3fb-5f572779b969"
   },
   "outputs": [
    {
     "name": "stdout",
     "output_type": "stream",
     "text": [
      "1.職歴：Salimageは現在、ポスト銀行で顧客アドバイザーを務めており、コマーシャルのBTSを修了した後、経済学校での専門課程を1年経て、ポスト局による研修を受けています。\n",
      "2.ミッションと活動：彼の役割は、顧客に適した財務アドバイスを提供し、質の高い関係を築き、ポスト銀行の金融商品を宣伝することです。\n",
      "3.ポートフォリオの管理：Salimageは1600人の顧客を管理し、そのうち最初の500人が彼のポートフォリオの中心であり、リテンションとファミリー向けアプローチの活動によって顧客を拡大しようとしています。\n",
      "4.日々の準備と遂行：彼は毎朝、1日に6〜7回の面談の準備に時間を割き、その後、顧客への電話対応と経済情報の管理に時間を割いています。\n",
      "5.職務の充実：Salimageは顧客とのコンタクトを楽しんでおり、遭遇する多様な問題に魅力を感じており、この仕事におけるアドバイスの重要性を強調し、若手の卒業生に積極的であり、耳を傾けることを勧めています。\n"
     ]
    }
   ],
   "source": [
    "summary_jpn = openai.translate(summary, \"japonais\")\n",
    "print(summary_jpn)\n",
    "with open(f\"data/openai/summary_jpn.txt\", \"wb\") as f:\n",
    "    f.write(summary_jpn.encode(\"utf-8\"))"
   ]
  }
 ],
 "metadata": {
  "colab": {
   "provenance": []
  },
  "kernelspec": {
   "display_name": "Python 3 (ipykernel)",
   "language": "python",
   "name": "python3"
  },
  "language_info": {
   "codemirror_mode": {
    "name": "ipython",
    "version": 3
   },
   "file_extension": ".py",
   "mimetype": "text/x-python",
   "name": "python",
   "nbconvert_exporter": "python",
   "pygments_lexer": "ipython3",
   "version": "3.11.3"
  }
 },
 "nbformat": 4,
 "nbformat_minor": 4
}
