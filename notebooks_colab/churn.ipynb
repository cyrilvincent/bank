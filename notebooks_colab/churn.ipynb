{
 "cells": [
  {
   "cell_type": "code",
   "execution_count": 1,
   "metadata": {
    "colab": {
     "base_uri": "https://localhost:8080/"
    },
    "executionInfo": {
     "elapsed": 712,
     "status": "ok",
     "timestamp": 1705065371854,
     "user": {
      "displayName": "Cyril Vincent",
      "userId": "11684947983570556386"
     },
     "user_tz": -60
    },
    "id": "yK91nlgIsSQq",
    "outputId": "ba22931f-4d19-4ac8-ce7e-f7b15c7cb252"
   },
   "outputs": [
    {
     "name": "stdout",
     "output_type": "stream",
     "text": [
      "Python 3.11.3\n"
     ]
    }
   ],
   "source": [
    "!python --version\n"
   ]
  },
  {
   "cell_type": "code",
   "execution_count": 2,
   "metadata": {
    "executionInfo": {
     "elapsed": 18,
     "status": "ok",
     "timestamp": 1705065380978,
     "user": {
      "displayName": "Cyril Vincent",
      "userId": "11684947983570556386"
     },
     "user_tz": -60
    },
    "id": "z9ThpFixuMso"
   },
   "outputs": [
    {
     "name": "stderr",
     "output_type": "stream",
     "text": [
      "C:\\Users\\conta\\AppData\\Local\\Programs\\Python\\Python311\\Lib\\site-packages\\tqdm\\auto.py:21: TqdmWarning: IProgress not found. Please update jupyter and ipywidgets. See https://ipywidgets.readthedocs.io/en/stable/user_install.html\n",
      "  from .autonotebook import tqdm as notebook_tqdm\n"
     ]
    }
   ],
   "source": [
    "import pandas as pd\n",
    "import sweetviz\n",
    "import matplotlib.pyplot as plt\n",
    "import seaborn as sns"
   ]
  },
  {
   "cell_type": "code",
   "execution_count": 3,
   "metadata": {
    "colab": {
     "base_uri": "https://localhost:8080/"
    },
    "executionInfo": {
     "elapsed": 17,
     "status": "ok",
     "timestamp": 1705065380978,
     "user": {
      "displayName": "Cyril Vincent",
      "userId": "11684947983570556386"
     },
     "user_tz": -60
    },
    "id": "g9XCT4ojuoGR",
    "outputId": "9bb7a2bf-f7f5-4f2c-9ea1-ac38a0d4da28"
   },
   "outputs": [
    {
     "name": "stdout",
     "output_type": "stream",
     "text": [
      "(10000, 18)\n"
     ]
    }
   ],
   "source": [
    "pd.options.display.max_columns = None\n",
    "df = pd.read_csv('data/churn/churn.csv', delimiter=',')\n",
    "print(df.shape)"
   ]
  },
  {
   "cell_type": "code",
   "execution_count": 4,
   "metadata": {
    "colab": {
     "base_uri": "https://localhost:8080/",
     "height": 463
    },
    "executionInfo": {
     "elapsed": 16,
     "status": "ok",
     "timestamp": 1705065380978,
     "user": {
      "displayName": "Cyril Vincent",
      "userId": "11684947983570556386"
     },
     "user_tz": -60
    },
    "id": "5mN8AK3auy5e",
    "outputId": "1eeff6c7-38bd-4110-c38f-676c11891c1e"
   },
   "outputs": [
    {
     "data": {
      "text/html": [
       "<div>\n",
       "<style scoped>\n",
       "    .dataframe tbody tr th:only-of-type {\n",
       "        vertical-align: middle;\n",
       "    }\n",
       "\n",
       "    .dataframe tbody tr th {\n",
       "        vertical-align: top;\n",
       "    }\n",
       "\n",
       "    .dataframe thead th {\n",
       "        text-align: right;\n",
       "    }\n",
       "</style>\n",
       "<table border=\"1\" class=\"dataframe\">\n",
       "  <thead>\n",
       "    <tr style=\"text-align: right;\">\n",
       "      <th></th>\n",
       "      <th>count</th>\n",
       "      <th>mean</th>\n",
       "      <th>std</th>\n",
       "      <th>min</th>\n",
       "      <th>25%</th>\n",
       "      <th>50%</th>\n",
       "      <th>75%</th>\n",
       "      <th>max</th>\n",
       "    </tr>\n",
       "  </thead>\n",
       "  <tbody>\n",
       "    <tr>\n",
       "      <th>CreditScore</th>\n",
       "      <td>5014.0</td>\n",
       "      <td>649.668329</td>\n",
       "      <td>97.016799</td>\n",
       "      <td>350.00</td>\n",
       "      <td>582.00</td>\n",
       "      <td>653.00</td>\n",
       "      <td>717.0000</td>\n",
       "      <td>850.00</td>\n",
       "    </tr>\n",
       "    <tr>\n",
       "      <th>Age</th>\n",
       "      <td>5014.0</td>\n",
       "      <td>38.511767</td>\n",
       "      <td>10.469459</td>\n",
       "      <td>18.00</td>\n",
       "      <td>31.00</td>\n",
       "      <td>37.00</td>\n",
       "      <td>43.0000</td>\n",
       "      <td>92.00</td>\n",
       "    </tr>\n",
       "    <tr>\n",
       "      <th>Tenure</th>\n",
       "      <td>5014.0</td>\n",
       "      <td>5.004587</td>\n",
       "      <td>2.888475</td>\n",
       "      <td>0.00</td>\n",
       "      <td>2.00</td>\n",
       "      <td>5.00</td>\n",
       "      <td>7.0000</td>\n",
       "      <td>10.00</td>\n",
       "    </tr>\n",
       "    <tr>\n",
       "      <th>Balance</th>\n",
       "      <td>5014.0</td>\n",
       "      <td>62092.636516</td>\n",
       "      <td>64133.565524</td>\n",
       "      <td>0.00</td>\n",
       "      <td>0.00</td>\n",
       "      <td>62153.50</td>\n",
       "      <td>121444.8775</td>\n",
       "      <td>238387.56</td>\n",
       "    </tr>\n",
       "    <tr>\n",
       "      <th>NumOfProducts</th>\n",
       "      <td>5014.0</td>\n",
       "      <td>1.530913</td>\n",
       "      <td>0.570347</td>\n",
       "      <td>1.00</td>\n",
       "      <td>1.00</td>\n",
       "      <td>1.00</td>\n",
       "      <td>2.0000</td>\n",
       "      <td>4.00</td>\n",
       "    </tr>\n",
       "    <tr>\n",
       "      <th>HasCrCard</th>\n",
       "      <td>5014.0</td>\n",
       "      <td>0.706621</td>\n",
       "      <td>0.455356</td>\n",
       "      <td>0.00</td>\n",
       "      <td>0.00</td>\n",
       "      <td>1.00</td>\n",
       "      <td>1.0000</td>\n",
       "      <td>1.00</td>\n",
       "    </tr>\n",
       "    <tr>\n",
       "      <th>IsActiveMember</th>\n",
       "      <td>5014.0</td>\n",
       "      <td>0.516753</td>\n",
       "      <td>0.499769</td>\n",
       "      <td>0.00</td>\n",
       "      <td>0.00</td>\n",
       "      <td>1.00</td>\n",
       "      <td>1.0000</td>\n",
       "      <td>1.00</td>\n",
       "    </tr>\n",
       "    <tr>\n",
       "      <th>EstimatedSalary</th>\n",
       "      <td>5014.0</td>\n",
       "      <td>99899.180814</td>\n",
       "      <td>57336.289016</td>\n",
       "      <td>90.07</td>\n",
       "      <td>51399.19</td>\n",
       "      <td>99132.31</td>\n",
       "      <td>149295.3600</td>\n",
       "      <td>199929.17</td>\n",
       "    </tr>\n",
       "    <tr>\n",
       "      <th>Exited</th>\n",
       "      <td>5014.0</td>\n",
       "      <td>0.161747</td>\n",
       "      <td>0.368255</td>\n",
       "      <td>0.00</td>\n",
       "      <td>0.00</td>\n",
       "      <td>0.00</td>\n",
       "      <td>0.0000</td>\n",
       "      <td>1.00</td>\n",
       "    </tr>\n",
       "    <tr>\n",
       "      <th>Complain</th>\n",
       "      <td>5014.0</td>\n",
       "      <td>0.161947</td>\n",
       "      <td>0.368439</td>\n",
       "      <td>0.00</td>\n",
       "      <td>0.00</td>\n",
       "      <td>0.00</td>\n",
       "      <td>0.0000</td>\n",
       "      <td>1.00</td>\n",
       "    </tr>\n",
       "    <tr>\n",
       "      <th>Satisfaction Score</th>\n",
       "      <td>5014.0</td>\n",
       "      <td>3.017750</td>\n",
       "      <td>1.402843</td>\n",
       "      <td>1.00</td>\n",
       "      <td>2.00</td>\n",
       "      <td>3.00</td>\n",
       "      <td>4.0000</td>\n",
       "      <td>5.00</td>\n",
       "    </tr>\n",
       "    <tr>\n",
       "      <th>Point Earned</th>\n",
       "      <td>5014.0</td>\n",
       "      <td>607.169924</td>\n",
       "      <td>225.611730</td>\n",
       "      <td>119.00</td>\n",
       "      <td>412.00</td>\n",
       "      <td>604.00</td>\n",
       "      <td>802.0000</td>\n",
       "      <td>1000.00</td>\n",
       "    </tr>\n",
       "  </tbody>\n",
       "</table>\n",
       "</div>"
      ],
      "text/plain": [
       "                     count          mean           std     min       25%  \\\n",
       "CreditScore         5014.0    649.668329     97.016799  350.00    582.00   \n",
       "Age                 5014.0     38.511767     10.469459   18.00     31.00   \n",
       "Tenure              5014.0      5.004587      2.888475    0.00      2.00   \n",
       "Balance             5014.0  62092.636516  64133.565524    0.00      0.00   \n",
       "NumOfProducts       5014.0      1.530913      0.570347    1.00      1.00   \n",
       "HasCrCard           5014.0      0.706621      0.455356    0.00      0.00   \n",
       "IsActiveMember      5014.0      0.516753      0.499769    0.00      0.00   \n",
       "EstimatedSalary     5014.0  99899.180814  57336.289016   90.07  51399.19   \n",
       "Exited              5014.0      0.161747      0.368255    0.00      0.00   \n",
       "Complain            5014.0      0.161947      0.368439    0.00      0.00   \n",
       "Satisfaction Score  5014.0      3.017750      1.402843    1.00      2.00   \n",
       "Point Earned        5014.0    607.169924    225.611730  119.00    412.00   \n",
       "\n",
       "                         50%          75%        max  \n",
       "CreditScore           653.00     717.0000     850.00  \n",
       "Age                    37.00      43.0000      92.00  \n",
       "Tenure                  5.00       7.0000      10.00  \n",
       "Balance             62153.50  121444.8775  238387.56  \n",
       "NumOfProducts           1.00       2.0000       4.00  \n",
       "HasCrCard               1.00       1.0000       1.00  \n",
       "IsActiveMember          1.00       1.0000       1.00  \n",
       "EstimatedSalary     99132.31  149295.3600  199929.17  \n",
       "Exited                  0.00       0.0000       1.00  \n",
       "Complain                0.00       0.0000       1.00  \n",
       "Satisfaction Score      3.00       4.0000       5.00  \n",
       "Point Earned          604.00     802.0000    1000.00  "
      ]
     },
     "execution_count": 4,
     "metadata": {},
     "output_type": "execute_result"
    }
   ],
   "source": [
    "# Anonymisation\n",
    "df = df.drop([\"RowNumber\", \"CustomerId\", \"Surname\"], axis = 1)\n",
    "\n",
    "# France only\n",
    "df = df[df.Geography == \"France\"]\n",
    "df = df.drop([\"Geography\"], axis = 1)\n",
    "df.describe().T"
   ]
  },
  {
   "cell_type": "code",
   "execution_count": 5,
   "metadata": {
    "colab": {
     "base_uri": "https://localhost:8080/",
     "height": 86,
     "referenced_widgets": [
      "425b79f5791b4c919e38164c14129aa9",
      "3a188506c4704893963d8513f3ea762f",
      "08e798bce11a4e488c615f37d47400bf",
      "234555a767e345979f3c6f12a7b850e8",
      "26a5555a0fd845f5a8417f84b46d90ab",
      "a216573402694755a89e189fb3d6deba",
      "4d1a17a3d28a489d90465705b49f13a2",
      "59c879be731f48e89f7593ef58e4f30c",
      "f21f9795bf814616a1d233041fbb49ca",
      "7ee4068e63e046b4a931d69436a77554",
      "b8d179481bef4410a51c433a25bf34c9"
     ]
    },
    "executionInfo": {
     "elapsed": 18882,
     "status": "ok",
     "timestamp": 1705065399845,
     "user": {
      "displayName": "Cyril Vincent",
      "userId": "11684947983570556386"
     },
     "user_tz": -60
    },
    "id": "k9tcdQ-uu9IY",
    "outputId": "95aaaad8-2236-4229-f527-5e566f6ce477"
   },
   "outputs": [
    {
     "name": "stderr",
     "output_type": "stream",
     "text": [
      "Done! Use 'show' commands to display/save.   |█████████████████████████████████████████| [100%]   00:00 -> (00:00 left)\n"
     ]
    },
    {
     "name": "stdout",
     "output_type": "stream",
     "text": [
      "Report SWEETVIZ_REPORT.html was generated! NOTEBOOK/COLAB USERS: the web browser MAY not pop up, regardless, the report IS saved in your notebook/colab files.\n"
     ]
    }
   ],
   "source": [
    "my_report = sweetviz.analyze(df)\n",
    "my_report.show_html()"
   ]
  },
  {
   "cell_type": "code",
   "execution_count": 6,
   "metadata": {
    "colab": {
     "base_uri": "https://localhost:8080/",
     "height": 708
    },
    "executionInfo": {
     "elapsed": 1991,
     "status": "ok",
     "timestamp": 1705065401818,
     "user": {
      "displayName": "Cyril Vincent",
      "userId": "11684947983570556386"
     },
     "user_tz": -60
    },
    "id": "KHUK72MgvM0k",
    "outputId": "22a16be9-176c-4e84-d9a4-9dd6099b519c"
   },
   "outputs": [
    {
     "name": "stdout",
     "output_type": "stream",
     "text": [
      "CreditScore            441\n",
      "Gender                   2\n",
      "Age                     68\n",
      "Tenure                  11\n",
      "Balance               2597\n",
      "NumOfProducts            4\n",
      "HasCrCard                2\n",
      "IsActiveMember           2\n",
      "EstimatedSalary       5014\n",
      "Exited                   2\n",
      "Complain                 2\n",
      "Satisfaction Score       5\n",
      "Card Type                4\n",
      "Point Earned           784\n",
      "dtype: int64\n"
     ]
    },
    {
     "data": {
      "image/png": "[encoded data removed]",
      "text/plain": [
       "<Figure size 640x480 with 4 Axes>"
      ]
     },
     "metadata": {},
     "output_type": "display_data"
    }
   ],
   "source": [
    "# Discretisation?\n",
    "print(df.nunique())\n",
    "\n",
    "# Etude pragmatique sur valeurs discretes (categorielles)\n",
    "fig, axarr = plt.subplots(2, 2)\n",
    "sns.countplot(x='Gender', hue = 'Exited',data = df, ax=axarr[0][0])\n",
    "sns.countplot(x='HasCrCard', hue = 'Exited',data = df, ax=axarr[0][1])\n",
    "sns.countplot(x='IsActiveMember', hue = 'Exited',data = df, ax=axarr[1][0])\n",
    "plt.show()"
   ]
  },
  {
   "cell_type": "code",
   "execution_count": 7,
   "metadata": {
    "colab": {
     "base_uri": "https://localhost:8080/",
     "height": 445
    },
    "executionInfo": {
     "elapsed": 1275,
     "status": "ok",
     "timestamp": 1705065403088,
     "user": {
      "displayName": "Cyril Vincent",
      "userId": "11684947983570556386"
     },
     "user_tz": -60
    },
    "id": "Bz29WzAnvXxf",
    "outputId": "4ea39ac1-798d-4875-d53f-f5ccf8b27666"
   },
   "outputs": [
    {
     "data": {
      "image/png": "[encoded data removed]",
      "text/plain": [
       "<Figure size 640x480 with 6 Axes>"
      ]
     },
     "metadata": {},
     "output_type": "display_data"
    }
   ],
   "source": [
    "# Etude pragmatique sur valeurs continues\n",
    "fig, axarr = plt.subplots(3, 2)\n",
    "sns.boxplot(y='CreditScore',x = 'Exited', hue = 'Exited',data = df, ax=axarr[0][0])\n",
    "sns.boxplot(y='Age',x = 'Exited', hue = 'Exited',data = df , ax=axarr[0][1])\n",
    "sns.boxplot(y='Tenure',x = 'Exited', hue = 'Exited',data = df, ax=axarr[1][0])\n",
    "sns.boxplot(y='Balance',x = 'Exited', hue = 'Exited',data = df, ax=axarr[1][1])\n",
    "sns.boxplot(y='NumOfProducts',x = 'Exited', hue = 'Exited',data = df, ax=axarr[2][0])\n",
    "sns.boxplot(y='EstimatedSalary',x = 'Exited', hue = 'Exited',data = df, ax=axarr[2][1])\n",
    "plt.show()"
   ]
  },
  {
   "cell_type": "code",
   "execution_count": 8,
   "metadata": {
    "colab": {
     "base_uri": "https://localhost:8080/",
     "height": 244
    },
    "executionInfo": {
     "elapsed": 14,
     "status": "ok",
     "timestamp": 1705065403088,
     "user": {
      "displayName": "Cyril Vincent",
      "userId": "11684947983570556386"
     },
     "user_tz": -60
    },
    "id": "Z2XzhXwnvkF8",
    "outputId": "0075d16d-f4f1-4d28-f192-f685c4e0e675"
   },
   "outputs": [
    {
     "data": {
      "text/html": [
       "<div>\n",
       "<style scoped>\n",
       "    .dataframe tbody tr th:only-of-type {\n",
       "        vertical-align: middle;\n",
       "    }\n",
       "\n",
       "    .dataframe tbody tr th {\n",
       "        vertical-align: top;\n",
       "    }\n",
       "\n",
       "    .dataframe thead th {\n",
       "        text-align: right;\n",
       "    }\n",
       "</style>\n",
       "<table border=\"1\" class=\"dataframe\">\n",
       "  <thead>\n",
       "    <tr style=\"text-align: right;\">\n",
       "      <th></th>\n",
       "      <th>CreditScore</th>\n",
       "      <th>Gender</th>\n",
       "      <th>Age</th>\n",
       "      <th>Tenure</th>\n",
       "      <th>Balance</th>\n",
       "      <th>NumOfProducts</th>\n",
       "      <th>HasCrCard</th>\n",
       "      <th>IsActiveMember</th>\n",
       "      <th>EstimatedSalary</th>\n",
       "      <th>Exited</th>\n",
       "      <th>Complain</th>\n",
       "      <th>Satisfaction Score</th>\n",
       "      <th>Card Type</th>\n",
       "      <th>Point Earned</th>\n",
       "      <th>BalanceSalaryRatio</th>\n",
       "      <th>TenureByAge</th>\n",
       "      <th>CreditScoreGivenAge</th>\n",
       "    </tr>\n",
       "  </thead>\n",
       "  <tbody>\n",
       "    <tr>\n",
       "      <th>0</th>\n",
       "      <td>619</td>\n",
       "      <td>Female</td>\n",
       "      <td>42</td>\n",
       "      <td>2</td>\n",
       "      <td>0.00</td>\n",
       "      <td>1</td>\n",
       "      <td>1</td>\n",
       "      <td>1</td>\n",
       "      <td>101348.88</td>\n",
       "      <td>1</td>\n",
       "      <td>1</td>\n",
       "      <td>2</td>\n",
       "      <td>DIAMOND</td>\n",
       "      <td>464</td>\n",
       "      <td>0.000000</td>\n",
       "      <td>0.047619</td>\n",
       "      <td>14.738095</td>\n",
       "    </tr>\n",
       "    <tr>\n",
       "      <th>2</th>\n",
       "      <td>502</td>\n",
       "      <td>Female</td>\n",
       "      <td>42</td>\n",
       "      <td>8</td>\n",
       "      <td>159660.80</td>\n",
       "      <td>3</td>\n",
       "      <td>1</td>\n",
       "      <td>0</td>\n",
       "      <td>113931.57</td>\n",
       "      <td>1</td>\n",
       "      <td>1</td>\n",
       "      <td>3</td>\n",
       "      <td>DIAMOND</td>\n",
       "      <td>377</td>\n",
       "      <td>1.401375</td>\n",
       "      <td>0.190476</td>\n",
       "      <td>11.952381</td>\n",
       "    </tr>\n",
       "    <tr>\n",
       "      <th>3</th>\n",
       "      <td>699</td>\n",
       "      <td>Female</td>\n",
       "      <td>39</td>\n",
       "      <td>1</td>\n",
       "      <td>0.00</td>\n",
       "      <td>2</td>\n",
       "      <td>0</td>\n",
       "      <td>0</td>\n",
       "      <td>93826.63</td>\n",
       "      <td>0</td>\n",
       "      <td>0</td>\n",
       "      <td>5</td>\n",
       "      <td>GOLD</td>\n",
       "      <td>350</td>\n",
       "      <td>0.000000</td>\n",
       "      <td>0.025641</td>\n",
       "      <td>17.923077</td>\n",
       "    </tr>\n",
       "    <tr>\n",
       "      <th>6</th>\n",
       "      <td>822</td>\n",
       "      <td>Male</td>\n",
       "      <td>50</td>\n",
       "      <td>7</td>\n",
       "      <td>0.00</td>\n",
       "      <td>2</td>\n",
       "      <td>1</td>\n",
       "      <td>1</td>\n",
       "      <td>10062.80</td>\n",
       "      <td>0</td>\n",
       "      <td>0</td>\n",
       "      <td>2</td>\n",
       "      <td>SILVER</td>\n",
       "      <td>206</td>\n",
       "      <td>0.000000</td>\n",
       "      <td>0.140000</td>\n",
       "      <td>16.440000</td>\n",
       "    </tr>\n",
       "    <tr>\n",
       "      <th>8</th>\n",
       "      <td>501</td>\n",
       "      <td>Male</td>\n",
       "      <td>44</td>\n",
       "      <td>4</td>\n",
       "      <td>142051.07</td>\n",
       "      <td>2</td>\n",
       "      <td>0</td>\n",
       "      <td>1</td>\n",
       "      <td>74940.50</td>\n",
       "      <td>0</td>\n",
       "      <td>0</td>\n",
       "      <td>3</td>\n",
       "      <td>GOLD</td>\n",
       "      <td>251</td>\n",
       "      <td>1.895518</td>\n",
       "      <td>0.090909</td>\n",
       "      <td>11.386364</td>\n",
       "    </tr>\n",
       "  </tbody>\n",
       "</table>\n",
       "</div>"
      ],
      "text/plain": [
       "   CreditScore  Gender  Age  Tenure    Balance  NumOfProducts  HasCrCard  \\\n",
       "0          619  Female   42       2       0.00              1          1   \n",
       "2          502  Female   42       8  159660.80              3          1   \n",
       "3          699  Female   39       1       0.00              2          0   \n",
       "6          822    Male   50       7       0.00              2          1   \n",
       "8          501    Male   44       4  142051.07              2          0   \n",
       "\n",
       "   IsActiveMember  EstimatedSalary  Exited  Complain  Satisfaction Score  \\\n",
       "0               1        101348.88       1         1                   2   \n",
       "2               0        113931.57       1         1                   3   \n",
       "3               0         93826.63       0         0                   5   \n",
       "6               1         10062.80       0         0                   2   \n",
       "8               1         74940.50       0         0                   3   \n",
       "\n",
       "  Card Type  Point Earned  BalanceSalaryRatio  TenureByAge  \\\n",
       "0   DIAMOND           464            0.000000     0.047619   \n",
       "2   DIAMOND           377            1.401375     0.190476   \n",
       "3      GOLD           350            0.000000     0.025641   \n",
       "6    SILVER           206            0.000000     0.140000   \n",
       "8      GOLD           251            1.895518     0.090909   \n",
       "\n",
       "   CreditScoreGivenAge  \n",
       "0            14.738095  \n",
       "2            11.952381  \n",
       "3            17.923077  \n",
       "6            16.440000  \n",
       "8            11.386364  "
      ]
     },
     "execution_count": 8,
     "metadata": {},
     "output_type": "execute_result"
    }
   ],
   "source": [
    "# Ingenieurie de la data\n",
    "df['BalanceSalaryRatio'] = df.Balance/df.EstimatedSalary\n",
    "df['TenureByAge'] = df.Tenure/(df.Age) # Tenure = mandat\n",
    "df['CreditScoreGivenAge'] = df.CreditScore/(df.Age)\n",
    "df.head()"
   ]
  },
  {
   "cell_type": "code",
   "execution_count": 9,
   "metadata": {
    "colab": {
     "base_uri": "https://localhost:8080/",
     "height": 226
    },
    "executionInfo": {
     "elapsed": 14,
     "status": "ok",
     "timestamp": 1705065403089,
     "user": {
      "displayName": "Cyril Vincent",
      "userId": "11684947983570556386"
     },
     "user_tz": -60
    },
    "id": "JGQeyQGEvq6j",
    "outputId": "b09b28eb-a895-4c54-c2c1-2ca7680ae9dd"
   },
   "outputs": [
    {
     "data": {
      "text/html": [
       "<div>\n",
       "<style scoped>\n",
       "    .dataframe tbody tr th:only-of-type {\n",
       "        vertical-align: middle;\n",
       "    }\n",
       "\n",
       "    .dataframe tbody tr th {\n",
       "        vertical-align: top;\n",
       "    }\n",
       "\n",
       "    .dataframe thead th {\n",
       "        text-align: right;\n",
       "    }\n",
       "</style>\n",
       "<table border=\"1\" class=\"dataframe\">\n",
       "  <thead>\n",
       "    <tr style=\"text-align: right;\">\n",
       "      <th></th>\n",
       "      <th>Exited</th>\n",
       "      <th>CreditScore</th>\n",
       "      <th>Age</th>\n",
       "      <th>Tenure</th>\n",
       "      <th>Balance</th>\n",
       "      <th>NumOfProducts</th>\n",
       "      <th>EstimatedSalary</th>\n",
       "      <th>BalanceSalaryRatio</th>\n",
       "      <th>TenureByAge</th>\n",
       "      <th>CreditScoreGivenAge</th>\n",
       "      <th>HasCrCard</th>\n",
       "      <th>IsActiveMember</th>\n",
       "      <th>Gender</th>\n",
       "    </tr>\n",
       "  </thead>\n",
       "  <tbody>\n",
       "    <tr>\n",
       "      <th>0</th>\n",
       "      <td>1</td>\n",
       "      <td>619</td>\n",
       "      <td>42</td>\n",
       "      <td>2</td>\n",
       "      <td>0.00</td>\n",
       "      <td>1</td>\n",
       "      <td>101348.88</td>\n",
       "      <td>0.000000</td>\n",
       "      <td>0.047619</td>\n",
       "      <td>14.738095</td>\n",
       "      <td>1</td>\n",
       "      <td>1</td>\n",
       "      <td>0</td>\n",
       "    </tr>\n",
       "    <tr>\n",
       "      <th>2</th>\n",
       "      <td>1</td>\n",
       "      <td>502</td>\n",
       "      <td>42</td>\n",
       "      <td>8</td>\n",
       "      <td>159660.80</td>\n",
       "      <td>3</td>\n",
       "      <td>113931.57</td>\n",
       "      <td>1.401375</td>\n",
       "      <td>0.190476</td>\n",
       "      <td>11.952381</td>\n",
       "      <td>1</td>\n",
       "      <td>0</td>\n",
       "      <td>0</td>\n",
       "    </tr>\n",
       "    <tr>\n",
       "      <th>3</th>\n",
       "      <td>0</td>\n",
       "      <td>699</td>\n",
       "      <td>39</td>\n",
       "      <td>1</td>\n",
       "      <td>0.00</td>\n",
       "      <td>2</td>\n",
       "      <td>93826.63</td>\n",
       "      <td>0.000000</td>\n",
       "      <td>0.025641</td>\n",
       "      <td>17.923077</td>\n",
       "      <td>0</td>\n",
       "      <td>0</td>\n",
       "      <td>0</td>\n",
       "    </tr>\n",
       "    <tr>\n",
       "      <th>6</th>\n",
       "      <td>0</td>\n",
       "      <td>822</td>\n",
       "      <td>50</td>\n",
       "      <td>7</td>\n",
       "      <td>0.00</td>\n",
       "      <td>2</td>\n",
       "      <td>10062.80</td>\n",
       "      <td>0.000000</td>\n",
       "      <td>0.140000</td>\n",
       "      <td>16.440000</td>\n",
       "      <td>1</td>\n",
       "      <td>1</td>\n",
       "      <td>1</td>\n",
       "    </tr>\n",
       "    <tr>\n",
       "      <th>8</th>\n",
       "      <td>0</td>\n",
       "      <td>501</td>\n",
       "      <td>44</td>\n",
       "      <td>4</td>\n",
       "      <td>142051.07</td>\n",
       "      <td>2</td>\n",
       "      <td>74940.50</td>\n",
       "      <td>1.895518</td>\n",
       "      <td>0.090909</td>\n",
       "      <td>11.386364</td>\n",
       "      <td>0</td>\n",
       "      <td>1</td>\n",
       "      <td>1</td>\n",
       "    </tr>\n",
       "  </tbody>\n",
       "</table>\n",
       "</div>"
      ],
      "text/plain": [
       "   Exited  CreditScore  Age  Tenure    Balance  NumOfProducts  \\\n",
       "0       1          619   42       2       0.00              1   \n",
       "2       1          502   42       8  159660.80              3   \n",
       "3       0          699   39       1       0.00              2   \n",
       "6       0          822   50       7       0.00              2   \n",
       "8       0          501   44       4  142051.07              2   \n",
       "\n",
       "   EstimatedSalary  BalanceSalaryRatio  TenureByAge  CreditScoreGivenAge  \\\n",
       "0        101348.88            0.000000     0.047619            14.738095   \n",
       "2        113931.57            1.401375     0.190476            11.952381   \n",
       "3         93826.63            0.000000     0.025641            17.923077   \n",
       "6         10062.80            0.000000     0.140000            16.440000   \n",
       "8         74940.50            1.895518     0.090909            11.386364   \n",
       "\n",
       "   HasCrCard  IsActiveMember Gender  \n",
       "0          1               1      0  \n",
       "2          1               0      0  \n",
       "3          0               0      0  \n",
       "6          1               1      1  \n",
       "8          0               1      1  "
      ]
     },
     "execution_count": 9,
     "metadata": {},
     "output_type": "execute_result"
    }
   ],
   "source": [
    "# Reordonne pour avoir les valeurs discretes à droite\n",
    "continuous_vars = ['CreditScore',  'Age', 'Tenure', 'Balance','NumOfProducts', 'EstimatedSalary', 'BalanceSalaryRatio',\n",
    "                   'TenureByAge','CreditScoreGivenAge']\n",
    "cat_vars = ['HasCrCard', 'IsActiveMember','Gender']\n",
    "df = df[['Exited'] + continuous_vars + cat_vars]\n",
    "\n",
    "# Valeur numérique\n",
    "df.loc[df.Gender == \"Male\", 'Gender'] = 1\n",
    "df.loc[df.Gender == \"Female\", 'Gender'] = 0\n",
    "df.head()"
   ]
  },
  {
   "cell_type": "code",
   "execution_count": 10,
   "metadata": {
    "colab": {
     "base_uri": "https://localhost:8080/",
     "height": 435
    },
    "executionInfo": {
     "elapsed": 13,
     "status": "ok",
     "timestamp": 1705065403089,
     "user": {
      "displayName": "Cyril Vincent",
      "userId": "11684947983570556386"
     },
     "user_tz": -60
    },
    "id": "6d4N0UKhv8F4",
    "outputId": "27f1f3fe-7f53-4538-d0c5-f12d56591732"
   },
   "outputs": [
    {
     "data": {
      "image/png": "[encoded data removed]",
      "text/plain": [
       "<Figure size 640x480 with 1 Axes>"
      ]
     },
     "metadata": {},
     "output_type": "display_data"
    }
   ],
   "source": [
    "# Equilibrage\n",
    "# Proportion de churn\n",
    "labels = 'Exited', 'Retained'\n",
    "sizes = [df.Exited[df.Exited==1].count(), df.Exited[df.Exited==0].count()]\n",
    "explode = (0, 0.1)\n",
    "fig1, ax1 = plt.subplots()\n",
    "ax1.pie(sizes, explode=explode, labels=labels, autopct='%1.1f%%',\n",
    "        shadow=True, startangle=90)\n",
    "ax1.axis('equal')\n",
    "plt.title(\"Proportion of customer churned and retained\", size = 20)\n",
    "plt.show()"
   ]
  },
  {
   "cell_type": "code",
   "execution_count": 11,
   "metadata": {
    "executionInfo": {
     "elapsed": 11,
     "status": "ok",
     "timestamp": 1705065403089,
     "user": {
      "displayName": "Cyril Vincent",
      "userId": "11684947983570556386"
     },
     "user_tz": -60
    },
    "id": "PA0ZaHBVwCJt"
   },
   "outputs": [],
   "source": [
    "# Equilibrage\n",
    "nb = len(df[df.Exited==1])\n",
    "df = pd.concat([df[df.Exited==1], df[df.Exited==0][:nb]])"
   ]
  },
  {
   "cell_type": "code",
   "execution_count": 12,
   "metadata": {
    "executionInfo": {
     "elapsed": 10,
     "status": "ok",
     "timestamp": 1705065403089,
     "user": {
      "displayName": "Cyril Vincent",
      "userId": "11684947983570556386"
     },
     "user_tz": -60
    },
    "id": "kPY07KFRwDzI"
   },
   "outputs": [],
   "source": [
    "# Sauvegarde\n",
    "df.to_csv(\"data/churn/churn_clean.csv\", index=False)"
   ]
  },
  {
   "cell_type": "code",
   "execution_count": 13,
   "metadata": {
    "executionInfo": {
     "elapsed": 10,
     "status": "ok",
     "timestamp": 1705065403089,
     "user": {
      "displayName": "Cyril Vincent",
      "userId": "11684947983570556386"
     },
     "user_tz": -60
    },
    "id": "Ud5nYh7wwSHK"
   },
   "outputs": [],
   "source": [
    "# Apprentissage\n",
    "import pandas as pd\n",
    "import sklearn.preprocessing as pp\n",
    "import sklearn.model_selection as ms\n",
    "import random\n",
    "import sklearn.linear_model as lm\n",
    "import sklearn.neighbors as nn\n",
    "import sklearn.svm as svm\n",
    "import pickle\n",
    "import sklearn.ensemble as rf\n",
    "import matplotlib.pyplot as plt\n",
    "from sklearn.metrics import classification_report\n",
    "\n",
    "random.seed(0)"
   ]
  },
  {
   "cell_type": "code",
   "execution_count": 14,
   "metadata": {
    "executionInfo": {
     "elapsed": 442,
     "status": "ok",
     "timestamp": 1705065403521,
     "user": {
      "displayName": "Cyril Vincent",
      "userId": "11684947983570556386"
     },
     "user_tz": -60
    },
    "id": "9mzu5kZjwdSl"
   },
   "outputs": [],
   "source": [
    "df = pd.read_csv('data/churn/churn_clean.csv', delimiter=',')\n",
    "y = df.Exited\n",
    "x = df.drop([\"Exited\"], axis=1)"
   ]
  },
  {
   "cell_type": "code",
   "execution_count": 15,
   "metadata": {
    "colab": {
     "base_uri": "https://localhost:8080/"
    },
    "executionInfo": {
     "elapsed": 11,
     "status": "ok",
     "timestamp": 1705065403521,
     "user": {
      "displayName": "Cyril Vincent",
      "userId": "11684947983570556386"
     },
     "user_tz": -60
    },
    "id": "hVIlq1huwhpM",
    "outputId": "b5d56c66-0780-4e4a-ae27-7199fb16ad61"
   },
   "outputs": [
    {
     "data": {
      "text/plain": [
       "array([[-0.19565217,  0.14285714, -0.63157895, ...,  0.        ,\n",
       "         1.        , -1.        ],\n",
       "       [-1.04347826,  0.14285714,  0.63157895, ...,  0.        ,\n",
       "         0.        , -1.        ],\n",
       "       [-1.23913043,  0.35714286, -1.05263158, ...,  0.        ,\n",
       "         0.        , -1.        ],\n",
       "       ...,\n",
       "       [-0.45652174,  0.28571429,  0.63157895, ...,  0.        ,\n",
       "         1.        , -1.        ],\n",
       "       [-0.7173913 , -0.14285714,  0.        , ..., -1.        ,\n",
       "         1.        , -1.        ],\n",
       "       [ 1.4057971 , -0.07142857, -0.84210526, ...,  0.        ,\n",
       "         0.        , -1.        ]])"
      ]
     },
     "execution_count": 15,
     "metadata": {},
     "output_type": "execute_result"
    }
   ],
   "source": [
    "# Normalisation\n",
    "scaler = pp.RobustScaler()\n",
    "scaler.fit(x.values)\n",
    "x = scaler.transform(x.values)\n",
    "x"
   ]
  },
  {
   "cell_type": "code",
   "execution_count": 16,
   "metadata": {
    "colab": {
     "base_uri": "https://localhost:8080/"
    },
    "executionInfo": {
     "elapsed": 9,
     "status": "ok",
     "timestamp": 1705065403521,
     "user": {
      "displayName": "Cyril Vincent",
      "userId": "11684947983570556386"
     },
     "user_tz": -60
    },
    "id": "qMUH3EGqwpaR",
    "outputId": "9dbcc878-da48-40ae-f488-c36dcecc81b2"
   },
   "outputs": [
    {
     "name": "stdout",
     "output_type": "stream",
     "text": [
      "(1297, 12) (325, 12)\n"
     ]
    }
   ],
   "source": [
    "# Train test\n",
    "xtrain, xtest, ytrain, ytest = ms.train_test_split(x, y, train_size=0.8, test_size=0.2)\n",
    "print(xtrain.shape, xtest.shape)"
   ]
  },
  {
   "cell_type": "code",
   "execution_count": 17,
   "metadata": {
    "colab": {
     "base_uri": "https://localhost:8080/"
    },
    "executionInfo": {
     "elapsed": 7,
     "status": "ok",
     "timestamp": 1705065403521,
     "user": {
      "displayName": "Cyril Vincent",
      "userId": "11684947983570556386"
     },
     "user_tz": -60
    },
    "id": "qvwirglGwxHo",
    "outputId": "a1abc67e-50a8-4ccb-9406-2046c334fec3"
   },
   "outputs": [
    {
     "name": "stdout",
     "output_type": "stream",
     "text": [
      "Score: 0.15178507450449463\n"
     ]
    }
   ],
   "source": [
    "# Linear Model\n",
    "model = lm.LinearRegression()\n",
    "model.fit(xtrain, ytrain)\n",
    "print(f\"Score: {model.score(xtest, ytest)}\")"
   ]
  },
  {
   "cell_type": "code",
   "execution_count": 18,
   "metadata": {
    "colab": {
     "base_uri": "https://localhost:8080/"
    },
    "executionInfo": {
     "elapsed": 5,
     "status": "ok",
     "timestamp": 1705065403521,
     "user": {
      "displayName": "Cyril Vincent",
      "userId": "11684947983570556386"
     },
     "user_tz": -60
    },
    "id": "x3auew3mw3EY",
    "outputId": "5186a12b-f68e-4429-a0ac-3eff046b3669"
   },
   "outputs": [
    {
     "name": "stdout",
     "output_type": "stream",
     "text": [
      "Score: 0.7076923076923077\n"
     ]
    }
   ],
   "source": [
    "#KNN\n",
    "model = nn.KNeighborsClassifier()\n",
    "model.fit(xtrain, ytrain)\n",
    "print(f\"Score: {model.score(xtest, ytest)}\")\n",
    "with open(\"data/churn/churn_knn.pickle\", \"wb\") as f:\n",
    "    pickle.dump((scaler, model), f)"
   ]
  },
  {
   "cell_type": "code",
   "execution_count": 19,
   "metadata": {
    "colab": {
     "base_uri": "https://localhost:8080/"
    },
    "executionInfo": {
     "elapsed": 5,
     "status": "ok",
     "timestamp": 1705065403522,
     "user": {
      "displayName": "Cyril Vincent",
      "userId": "11684947983570556386"
     },
     "user_tz": -60
    },
    "id": "dvIfuNwww_Pa",
    "outputId": "dd66f9b2-96ab-4ae8-d3da-092f6dc91a5c"
   },
   "outputs": [
    {
     "name": "stdout",
     "output_type": "stream",
     "text": [
      "Score: 0.6861538461538461\n"
     ]
    }
   ],
   "source": [
    "# SVM\n",
    "model = svm.SVC()\n",
    "model.fit(xtrain, ytrain)\n",
    "print(f\"Score: {model.score(xtest, ytest)}\")"
   ]
  },
  {
   "cell_type": "code",
   "execution_count": 20,
   "metadata": {
    "colab": {
     "base_uri": "https://localhost:8080/"
    },
    "executionInfo": {
     "elapsed": 861,
     "status": "ok",
     "timestamp": 1705065404379,
     "user": {
      "displayName": "Cyril Vincent",
      "userId": "11684947983570556386"
     },
     "user_tz": -60
    },
    "id": "7U1UBYmqxGP3",
    "outputId": "9b8109a9-f0d9-46e3-ab10-9123c8d92a0b"
   },
   "outputs": [
    {
     "name": "stdout",
     "output_type": "stream",
     "text": [
      "Score: 0.7107692307692308\n"
     ]
    }
   ],
   "source": [
    "# Random Forest\n",
    "model = rf.RandomForestClassifier()\n",
    "model.fit(xtrain, ytrain)\n",
    "print(f\"Score: {model.score(xtest, ytest)}\")\n",
    "with open(\"data/churn/churn_rf.pickle\", \"wb\") as f:\n",
    "    pickle.dump((scaler, model), f)"
   ]
  },
  {
   "cell_type": "code",
   "execution_count": 21,
   "metadata": {
    "colab": {
     "base_uri": "https://localhost:8080/"
    },
    "executionInfo": {
     "elapsed": 10,
     "status": "ok",
     "timestamp": 1705065404380,
     "user": {
      "displayName": "Cyril Vincent",
      "userId": "11684947983570556386"
     },
     "user_tz": -60
    },
    "id": "4XwdZmHExOI3",
    "outputId": "46cf48fb-1be7-444a-dfa8-02f78ddee0a9"
   },
   "outputs": [
    {
     "name": "stdout",
     "output_type": "stream",
     "text": [
      "              precision    recall  f1-score   support\n",
      "\n",
      "           0       0.69      0.74      0.72       159\n",
      "           1       0.73      0.68      0.71       166\n",
      "\n",
      "    accuracy                           0.71       325\n",
      "   macro avg       0.71      0.71      0.71       325\n",
      "weighted avg       0.71      0.71      0.71       325\n",
      "\n"
     ]
    }
   ],
   "source": [
    "# Scores\n",
    "ypred = model.predict(xtest)\n",
    "print(classification_report(ytest,  ypred))"
   ]
  },
  {
   "cell_type": "code",
   "execution_count": 22,
   "metadata": {
    "colab": {
     "base_uri": "https://localhost:8080/",
     "height": 533
    },
    "executionInfo": {
     "elapsed": 9,
     "status": "ok",
     "timestamp": 1705065404380,
     "user": {
      "displayName": "Cyril Vincent",
      "userId": "11684947983570556386"
     },
     "user_tz": -60
    },
    "id": "JWTTINsYxYo9",
    "outputId": "4f714932-1e47-437b-c7db-5624ee33eb79"
   },
   "outputs": [
    {
     "name": "stdout",
     "output_type": "stream",
     "text": [
      "[0.09899416 0.17185961 0.05324597 0.07722247 0.0952705  0.09707848\n",
      " 0.06765635 0.09303296 0.16287958 0.01378326 0.04269015 0.02628652]\n"
     ]
    },
    {
     "data": {
      "image/png": "[encoded data removed]",
      "text/plain": [
       "<Figure size 640x480 with 1 Axes>"
      ]
     },
     "metadata": {},
     "output_type": "display_data"
    }
   ],
   "source": [
    "# Features Importances\n",
    "print(model.feature_importances_)\n",
    "plt.bar(df.columns[1:], model.feature_importances_)\n",
    "plt.xticks(rotation=45)\n",
    "plt.show()"
   ]
  },
  {
   "cell_type": "code",
   "execution_count": 23,
   "metadata": {
    "executionInfo": {
     "elapsed": 3,
     "status": "ok",
     "timestamp": 1705065404866,
     "user": {
      "displayName": "Cyril Vincent",
      "userId": "11684947983570556386"
     },
     "user_tz": -60
    },
    "id": "rrCAgm9jxkIr"
   },
   "outputs": [],
   "source": [
    "# Graphviz\n",
    "from sklearn.tree import export_graphviz\n",
    "export_graphviz(model.estimators_[0],\n",
    "                 out_file='data/churn/churn.dot',\n",
    "                 feature_names = df.columns[1:],\n",
    "                 class_names = [\"0\", \"1\"],\n",
    "                 rounded = True, proportion = False,\n",
    "                 precision = 2, filled = True)"
   ]
  },
  {
   "cell_type": "code",
   "execution_count": 24,
   "metadata": {
    "colab": {
     "base_uri": "https://localhost:8080/"
    },
    "executionInfo": {
     "elapsed": 3567,
     "status": "ok",
     "timestamp": 1705065408431,
     "user": {
      "displayName": "Cyril Vincent",
      "userId": "11684947983570556386"
     },
     "user_tz": -60
    },
    "id": "6N9LyvuCxqPq",
    "outputId": "ec237a5d-9521-476b-9649-582e398dc3c0"
   },
   "outputs": [
    {
     "name": "stdout",
     "output_type": "stream",
     "text": [
      "Score: 0.7323076923076923\n",
      "              precision    recall  f1-score   support\n",
      "\n",
      "           0       0.71      0.75      0.73       159\n",
      "           1       0.75      0.71      0.73       166\n",
      "\n",
      "    accuracy                           0.73       325\n",
      "   macro avg       0.73      0.73      0.73       325\n",
      "weighted avg       0.73      0.73      0.73       325\n",
      "\n"
     ]
    },
    {
     "name": "stderr",
     "output_type": "stream",
     "text": [
      "C:\\Users\\conta\\AppData\\Local\\Programs\\Python\\Python311\\Lib\\site-packages\\sklearn\\neural_network\\_multilayer_perceptron.py:691: ConvergenceWarning: Stochastic Optimizer: Maximum iterations (200) reached and the optimization hasn't converged yet.\n",
      "  warnings.warn(\n"
     ]
    }
   ],
   "source": [
    "# Neural Network\n",
    "import sklearn.neural_network as nn\n",
    "model = nn.MLPClassifier(hidden_layer_sizes=(15,15,15,15))\n",
    "model.fit(xtrain, ytrain)\n",
    "print(f\"Score: {model.score(xtest, ytest)}\")\n",
    "\n",
    "ypred = model.predict(xtest)\n",
    "print(classification_report(ytest,  ypred))\n",
    "\n",
    "with open(\"data/churn/churn_mlp.pickle\", \"wb\") as f:\n",
    "    pickle.dump((scaler, model), f)"
   ]
  }
 ],
 "metadata": {
  "colab": {
   "authorship_tag": "ABX9TyNf337r8C3CIvmvAQungw43",
   "mount_file_id": "1SIj6dcieZgDqZt47HCVK-TXEETBPBU_p",
   "provenance": []
  },
  "kernelspec": {
   "display_name": "Python 3 (ipykernel)",
   "language": "python",
   "name": "python3"
  },
  "language_info": {
   "codemirror_mode": {
    "name": "ipython",
    "version": 3
   },
   "file_extension": ".py",
   "mimetype": "text/x-python",
   "name": "python",
   "nbconvert_exporter": "python",
   "pygments_lexer": "ipython3",
   "version": "3.11.3"
  },
  "widgets": {
   "application/vnd.jupyter.widget-state+json": {
    "08e798bce11a4e488c615f37d47400bf": {
     "model_module": "@jupyter-widgets/controls",
     "model_module_version": "1.5.0",
     "model_name": "FloatProgressModel",
     "state": {
      "_dom_classes": [],
      "_model_module": "@jupyter-widgets/controls",
      "_model_module_version": "1.5.0",
      "_model_name": "FloatProgressModel",
      "_view_count": null,
      "_view_module": "@jupyter-widgets/controls",
      "_view_module_version": "1.5.0",
      "_view_name": "ProgressView",
      "bar_style": "success",
      "description": "",
      "description_tooltip": null,
      "layout": "IPY_MODEL_59c879be731f48e89f7593ef58e4f30c",
      "max": 1,
      "min": 0,
      "orientation": "horizontal",
      "style": "IPY_MODEL_f21f9795bf814616a1d233041fbb49ca",
      "value": 1
     }
    },
    "234555a767e345979f3c6f12a7b850e8": {
     "model_module": "@jupyter-widgets/controls",
     "model_module_version": "1.5.0",
     "model_name": "HTMLModel",
     "state": {
      "_dom_classes": [],
      "_model_module": "@jupyter-widgets/controls",
      "_model_module_version": "1.5.0",
      "_model_name": "HTMLModel",
      "_view_count": null,
      "_view_module": "@jupyter-widgets/controls",
      "_view_module_version": "1.5.0",
      "_view_name": "HTMLView",
      "description": "",
      "description_tooltip": null,
      "layout": "IPY_MODEL_7ee4068e63e046b4a931d69436a77554",
      "placeholder": "​",
      "style": "IPY_MODEL_b8d179481bef4410a51c433a25bf34c9",
      "value": " [100%]   00:02 -&gt; (00:00 left)"
     }
    },
    "26a5555a0fd845f5a8417f84b46d90ab": {
     "model_module": "@jupyter-widgets/base",
     "model_module_version": "1.2.0",
     "model_name": "LayoutModel",
     "state": {
      "_model_module": "@jupyter-widgets/base",
      "_model_module_version": "1.2.0",
      "_model_name": "LayoutModel",
      "_view_count": null,
      "_view_module": "@jupyter-widgets/base",
      "_view_module_version": "1.2.0",
      "_view_name": "LayoutView",
      "align_content": null,
      "align_items": null,
      "align_self": null,
      "border": null,
      "bottom": null,
      "display": "inline-flex",
      "flex": null,
      "flex_flow": "row wrap",
      "grid_area": null,
      "grid_auto_columns": null,
      "grid_auto_flow": null,
      "grid_auto_rows": null,
      "grid_column": null,
      "grid_gap": null,
      "grid_row": null,
      "grid_template_areas": null,
      "grid_template_columns": null,
      "grid_template_rows": null,
      "height": null,
      "justify_content": null,
      "justify_items": null,
      "left": null,
      "margin": null,
      "max_height": null,
      "max_width": null,
      "min_height": null,
      "min_width": null,
      "object_fit": null,
      "object_position": null,
      "order": null,
      "overflow": null,
      "overflow_x": null,
      "overflow_y": null,
      "padding": null,
      "right": null,
      "top": null,
      "visibility": null,
      "width": "100%"
     }
    },
    "3a188506c4704893963d8513f3ea762f": {
     "model_module": "@jupyter-widgets/controls",
     "model_module_version": "1.5.0",
     "model_name": "HTMLModel",
     "state": {
      "_dom_classes": [],
      "_model_module": "@jupyter-widgets/controls",
      "_model_module_version": "1.5.0",
      "_model_name": "HTMLModel",
      "_view_count": null,
      "_view_module": "@jupyter-widgets/controls",
      "_view_module_version": "1.5.0",
      "_view_name": "HTMLView",
      "description": "",
      "description_tooltip": null,
      "layout": "IPY_MODEL_a216573402694755a89e189fb3d6deba",
      "placeholder": "​",
      "style": "IPY_MODEL_4d1a17a3d28a489d90465705b49f13a2",
      "value": "Done! Use &#x27;show&#x27; commands to display/save.   "
     }
    },
    "425b79f5791b4c919e38164c14129aa9": {
     "model_module": "@jupyter-widgets/controls",
     "model_module_version": "1.5.0",
     "model_name": "HBoxModel",
     "state": {
      "_dom_classes": [],
      "_model_module": "@jupyter-widgets/controls",
      "_model_module_version": "1.5.0",
      "_model_name": "HBoxModel",
      "_view_count": null,
      "_view_module": "@jupyter-widgets/controls",
      "_view_module_version": "1.5.0",
      "_view_name": "HBoxView",
      "box_style": "",
      "children": [
       "IPY_MODEL_3a188506c4704893963d8513f3ea762f",
       "IPY_MODEL_08e798bce11a4e488c615f37d47400bf",
       "IPY_MODEL_234555a767e345979f3c6f12a7b850e8"
      ],
      "layout": "IPY_MODEL_26a5555a0fd845f5a8417f84b46d90ab"
     }
    },
    "4d1a17a3d28a489d90465705b49f13a2": {
     "model_module": "@jupyter-widgets/controls",
     "model_module_version": "1.5.0",
     "model_name": "DescriptionStyleModel",
     "state": {
      "_model_module": "@jupyter-widgets/controls",
      "_model_module_version": "1.5.0",
      "_model_name": "DescriptionStyleModel",
      "_view_count": null,
      "_view_module": "@jupyter-widgets/base",
      "_view_module_version": "1.2.0",
      "_view_name": "StyleView",
      "description_width": ""
     }
    },
    "59c879be731f48e89f7593ef58e4f30c": {
     "model_module": "@jupyter-widgets/base",
     "model_module_version": "1.2.0",
     "model_name": "LayoutModel",
     "state": {
      "_model_module": "@jupyter-widgets/base",
      "_model_module_version": "1.2.0",
      "_model_name": "LayoutModel",
      "_view_count": null,
      "_view_module": "@jupyter-widgets/base",
      "_view_module_version": "1.2.0",
      "_view_name": "LayoutView",
      "align_content": null,
      "align_items": null,
      "align_self": null,
      "border": null,
      "bottom": null,
      "display": null,
      "flex": "2",
      "flex_flow": null,
      "grid_area": null,
      "grid_auto_columns": null,
      "grid_auto_flow": null,
      "grid_auto_rows": null,
      "grid_column": null,
      "grid_gap": null,
      "grid_row": null,
      "grid_template_areas": null,
      "grid_template_columns": null,
      "grid_template_rows": null,
      "height": null,
      "justify_content": null,
      "justify_items": null,
      "left": null,
      "margin": null,
      "max_height": null,
      "max_width": null,
      "min_height": null,
      "min_width": null,
      "object_fit": null,
      "object_position": null,
      "order": null,
      "overflow": null,
      "overflow_x": null,
      "overflow_y": null,
      "padding": null,
      "right": null,
      "top": null,
      "visibility": null,
      "width": null
     }
    },
    "7ee4068e63e046b4a931d69436a77554": {
     "model_module": "@jupyter-widgets/base",
     "model_module_version": "1.2.0",
     "model_name": "LayoutModel",
     "state": {
      "_model_module": "@jupyter-widgets/base",
      "_model_module_version": "1.2.0",
      "_model_name": "LayoutModel",
      "_view_count": null,
      "_view_module": "@jupyter-widgets/base",
      "_view_module_version": "1.2.0",
      "_view_name": "LayoutView",
      "align_content": null,
      "align_items": null,
      "align_self": null,
      "border": null,
      "bottom": null,
      "display": null,
      "flex": null,
      "flex_flow": null,
      "grid_area": null,
      "grid_auto_columns": null,
      "grid_auto_flow": null,
      "grid_auto_rows": null,
      "grid_column": null,
      "grid_gap": null,
      "grid_row": null,
      "grid_template_areas": null,
      "grid_template_columns": null,
      "grid_template_rows": null,
      "height": null,
      "justify_content": null,
      "justify_items": null,
      "left": null,
      "margin": null,
      "max_height": null,
      "max_width": null,
      "min_height": null,
      "min_width": null,
      "object_fit": null,
      "object_position": null,
      "order": null,
      "overflow": null,
      "overflow_x": null,
      "overflow_y": null,
      "padding": null,
      "right": null,
      "top": null,
      "visibility": null,
      "width": null
     }
    },
    "a216573402694755a89e189fb3d6deba": {
     "model_module": "@jupyter-widgets/base",
     "model_module_version": "1.2.0",
     "model_name": "LayoutModel",
     "state": {
      "_model_module": "@jupyter-widgets/base",
      "_model_module_version": "1.2.0",
      "_model_name": "LayoutModel",
      "_view_count": null,
      "_view_module": "@jupyter-widgets/base",
      "_view_module_version": "1.2.0",
      "_view_name": "LayoutView",
      "align_content": null,
      "align_items": null,
      "align_self": null,
      "border": null,
      "bottom": null,
      "display": null,
      "flex": null,
      "flex_flow": null,
      "grid_area": null,
      "grid_auto_columns": null,
      "grid_auto_flow": null,
      "grid_auto_rows": null,
      "grid_column": null,
      "grid_gap": null,
      "grid_row": null,
      "grid_template_areas": null,
      "grid_template_columns": null,
      "grid_template_rows": null,
      "height": null,
      "justify_content": null,
      "justify_items": null,
      "left": null,
      "margin": null,
      "max_height": null,
      "max_width": null,
      "min_height": null,
      "min_width": null,
      "object_fit": null,
      "object_position": null,
      "order": null,
      "overflow": null,
      "overflow_x": null,
      "overflow_y": null,
      "padding": null,
      "right": null,
      "top": null,
      "visibility": null,
      "width": null
     }
    },
    "b8d179481bef4410a51c433a25bf34c9": {
     "model_module": "@jupyter-widgets/controls",
     "model_module_version": "1.5.0",
     "model_name": "DescriptionStyleModel",
     "state": {
      "_model_module": "@jupyter-widgets/controls",
      "_model_module_version": "1.5.0",
      "_model_name": "DescriptionStyleModel",
      "_view_count": null,
      "_view_module": "@jupyter-widgets/base",
      "_view_module_version": "1.2.0",
      "_view_name": "StyleView",
      "description_width": ""
     }
    },
    "f21f9795bf814616a1d233041fbb49ca": {
     "model_module": "@jupyter-widgets/controls",
     "model_module_version": "1.5.0",
     "model_name": "ProgressStyleModel",
     "state": {
      "_model_module": "@jupyter-widgets/controls",
      "_model_module_version": "1.5.0",
      "_model_name": "ProgressStyleModel",
      "_view_count": null,
      "_view_module": "@jupyter-widgets/base",
      "_view_module_version": "1.2.0",
      "_view_name": "StyleView",
      "bar_color": null,
      "description_width": ""
     }
    }
   }
  }
 },
 "nbformat": 4,
 "nbformat_minor": 4
}
